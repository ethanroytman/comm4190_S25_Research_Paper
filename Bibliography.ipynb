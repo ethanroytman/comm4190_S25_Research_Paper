{
 "cells": [
  {
   "cell_type": "markdown",
   "id": "dbb0addf-a53f-49d4-80bc-0fe656dd4ea2",
   "metadata": {},
   "source": [
    "## References\n",
    "\n",
    "Busch, F., Hoffmann, L., Rueger, C., & et al. (2025). Current applications and challenges in large language models for patient care: A systematic review. *Communications Medicine, 5*, 26. https://doi.org/10.1038/s43856-024-00717-2\n",
    "\n",
    "Dugas, E. (2025, March 4). New data shows AI supports docs’ day-to-day lives at work. *Vitals by Sutter Health*. https://vitals.sutterhealth.org/new-data-shows-ai-supports-docs-day-to-day-lives-at-work/\n",
    "\n",
    "Li, C., Zhao, Y., Bai, Y., Zhao, B., Tola, Y., Chan, C., Zhang, M., & Fu, X. (2025). Unveiling the potential of large language models in transforming chronic disease management: Mixed methods systematic review. *Journal of Medical Internet Research, 27*, e70535. https://www.jmir.org/2025/1/e70535\n",
    "\n",
    "Masanneck, L., Schmidt, L., Seifert, A., Kölsche, T., Huntemann, N., Jansen, R., Mehsin, M., Bernhard, M., Meuth, S., Böhm, L., & Pawlitzki, M. (2024). Triage performance across large language models, ChatGPT, and untrained doctors in emergency medicine: Comparative study. *Journal of Medical Internet Research, 26*, e53297. https://www.jmir.org/2024/1/e53297\n",
    "\n",
    "Sidharthan, C. (2024, March 6). ChatGPT outperforms Bing in providing information on home hypertension management. *News-Medical*. https://www.news-medical.net/news/20240306/ChatGPT-outperforms-Bing-in-providing-information-on-home-hypertension-management.aspx\n",
    "\n",
    "Shah, K., Xu, A. Y., Sharma, Y., Daher, M., McDonald, C., Diebo, B. G., & Daniels, A. H. (2024). Large language model prompting techniques for advancement in clinical medicine. *Journal of Clinical Medicine, 13*(17), 5101. https://doi.org/10.3390/jcm13175101\n",
    "\n",
    "Sivarajkumar, S., Kelley, M., Samolyk-Mazzanti, A., Visweswaran, S., & Wang, Y. (2024). An empirical evaluation of prompting strategies for large language models in zero-shot clinical natural language processing: Algorithm development and validation study. *JMIR Medical Informatics, 12*, e55318. https://medinform.jmir.org/2024/1/e55318"
   ]
  }
 ],
 "metadata": {
  "kernelspec": {
   "display_name": "Python 3 (ipykernel)",
   "language": "python",
   "name": "python3"
  },
  "language_info": {
   "codemirror_mode": {
    "name": "ipython",
    "version": 3
   },
   "file_extension": ".py",
   "mimetype": "text/x-python",
   "name": "python",
   "nbconvert_exporter": "python",
   "pygments_lexer": "ipython3",
   "version": "3.10.12"
  }
 },
 "nbformat": 4,
 "nbformat_minor": 5
}
